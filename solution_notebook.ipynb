{
 "cells": [
  {
   "cell_type": "markdown",
   "metadata": {},
   "source": [
    "#  Patient Admission Scheduling"
   ]
  },
  {
   "cell_type": "markdown",
   "metadata": {},
   "source": [
    "## Problem Formulation\n"
   ]
  },
  {
   "cell_type": "markdown",
   "metadata": {},
   "source": [
    "## Project Goal\n",
    "\n",
    "The goal of the project is to develop an intelligent agent, documenting the design and implementation steps.\n",
    "\n",
    "### Team Members\n",
    "- 18851 Luís Gonçalves Oliveira\n",
    "- 16443 Francisco Moreira Rebelo\n",
    "- 21990 Allan Sales Aleluia\n"
   ]
  },
  {
   "cell_type": "markdown",
   "metadata": {},
   "source": [
    "## Agent\n",
    "\n",
    "### PEAS - Agent Structure\n",
    "\n",
    "PEAS is a conceptual framework used in Artificial Intelligence to describe an agent system. The acronym PEAS stands for:\n",
    "\n",
    "- **Performance Measure:** Refers to criteria that define the success of the agent in a specific task. These measures are used to evaluate how well the agent is performing its actions in the environment.\n",
    "\n",
    "- **Environment:** Represents the context or scenario in which the agent operates. It may include all elements that affect or are affected by the agent, such as physical objects, other agents, external conditions, etc.\n",
    "\n",
    "- **Actuators:** Are the means by which the agent brings about changes in the environment. These can be motors, communication devices, or any other means by which the agent can influence its surroundings.\n",
    "\n",
    "- **Sensors:** Are the means by which the agent perceives its environment. Sensors provide information to the agent about the current state of the environment, enabling the agent to make informed decisions.\n",
    "\n",
    "### Example of PEAS Application:\n",
    "\n",
    "| **AGENT TYPE**      | **Performance Measure**                      | **Environment**                          | **Actuators**           | **Sensors** |\n",
    "|:-------------------:|:-------------------------------------------:|:---------------------------------------:|:-----------------------:|:------------:|\n",
    "| Hospital Scheduling | Efficient bed distribution; Minimize scheduling errors | Hospital area, including wards and surgery rooms | Automated scheduling system in Python | Bed occupancy sensors, information about available doctors and nurses |\n",
    "\n",
    "\n",
    "### Task Environment for Hospital Scheduling\n",
    "\n",
    "The task environment for the hospital scheduling agent is characterized as follows:\n",
    "\n",
    "- **Fully-observable:** The agent has complete visibility into the current state of the hospital, including bed occupancy, availability of medical staff, and scheduling information.\n",
    "\n",
    "- **Single-agent:** The scheduling decisions are made by a single agent, specifically the hospital scheduling system.\n",
    "\n",
    "- **Deterministic:** The outcome of scheduling actions is predictable; scheduling decisions directly influence the subsequent state of bed occupancy and medical staff availability.\n",
    "\n",
    "- **Sequential:** Scheduling decisions made in the current state affect future states; for example, assigning a bed and schedule to one patient may impact the availability for another patient.\n",
    "\n",
    "- **Dynamic:** The environment is dynamic, as bed occupancy and medical staff availability can change over time due to patient admissions, discharges, and staff schedules.\n",
    "\n",
    "- **Discrete:** The scheduling system operates within a discrete framework, with a finite number of beds, medical staff, and scheduling slots.\n",
    "\n",
    "- **Known:** The outcomes of scheduling actions are known to the system; the impact of assigning a bed or schedule is understood.\n",
    "\n",
    "This task environment outlines the key characteristics and dynamics relevant to the hospital scheduling agent's decision-making process.\n",
    "\n"
   ]
  },
  {
   "cell_type": "markdown",
   "metadata": {},
   "source": [
    "## Variables\n",
    "\n",
    "- **\\(B\\):** Set of available beds in the hospital.\n",
    "- **\\(D\\):** Set of doctors in the hospital.\n",
    "- **\\(N\\):** Set of nurses in the hospital.\n",
    "- **\\(S\\):** Set of scheduling slots, represented time intervals for appointments or procedures as pairs of start and end times.\n",
    "  - \\(S.01\\) - 0:00 AM to 1:00 AM\n",
    "  - \\(S.02\\) - 1:00 AM to 2:00 AM\n",
    "  - \\(S.03\\) - 2:00 AM to 3:00 AM\n",
    "  - \\(...)\n",
    "  - \\(S.22\\) - 9:00 PM to 10:00 PM\n",
    "  - \\(S.23\\) - 10:00 PM to 11:00 PM\n",
    "  - \\(S.24\\) - 11:00 PM to 12:00 AM\n",
    "- **\\(P\\):** Set of patients requiring scheduling.\n",
    "- **\\(A_b\\):** Availability status of bed \\(b \\in B\\), where \\(A_b = 1\\) indicates the bed is available, and \\(A_b = 0\\) indicates it is occupied.\n",
    "- **\\(A_d\\):** Availability status of doctor \\(d \\in D\\), where \\(A_d = 1\\) indicates the doctor is available, and \\(A_d = 0\\) indicates they are not available.\n",
    "- **\\(A_n\\):** Availability status of nurse \\(n \\in N\\), where \\(A_n = 1\\) indicates the nurse is available, and \\(A_n = 0\\) indicates they are not available.\n",
    "- **\\(R_p\\):** Requested scheduling slot for patient \\(p \\in P\\).\n",
    "- **\\(X_{pb}\\):** Binary decision variable, where \\(X_{pb} = 1\\) if patient \\(p\\) is assigned to bed \\(b\\), and \\(X_{pb} = 0\\) otherwise.\n",
    "- **\\(Y_{pd}\\):** Binary decision variable, where \\(Y_{pd} = 1\\) if doctor \\(d\\) is assigned to patient \\(p\\), and \\(Y_{pd} = 0\\) otherwise.\n",
    "- **\\(Y_{pn}\\):** Binary decision variable, where \\(Y_{pn} = 1\\) if nurse \\(n\\) is assigned to patient \\(p\\), and \\(Y_{pn} = 0\\) otherwise.\n"
   ]
  },
  {
   "cell_type": "markdown",
   "metadata": {},
   "source": [
    "## Domains\n",
    "\n",
    "For each variable, there is a domain - a set of values that can be assigned to this variable.  \n"
   ]
  },
  {
   "cell_type": "code",
   "execution_count": null,
   "metadata": {},
   "outputs": [],
   "source": [
    "# Define the sets\n",
    "B = list(beds.keys())  # Beds\n",
    "D = departments  # Departments\n",
    "R = list(rooms.keys())  # Rooms\n",
    "P = list(patients.keys())  # Patients\n",
    "S = list(range(1, 15))  # Scheduling slots for a planning horizon of 14 days\n",
    "\n",
    "# Domain defines the domain of each variable\n",
    "domain = {}\n",
    "\n",
    "# Bed Availability\n",
    "beds_availability = {f'B{bed}': {1} for bed in B}\n",
    "\n",
    "# Doctor Availability (Assuming each department has doctors)\n",
    "doctors_availability = {f'D{dept}': {1} for dept in D}\n",
    "\n",
    "# Scheduling Slots\n",
    "scheduling_slots = {f'S{s}': {1} for s in S}\n",
    "\n",
    "# Patient-Bed Assignment\n",
    "patient_bed_assignment = {f'X{p}.{b}': {0, 1} for p in P for b in B}\n",
    "\n",
    "# Requested Scheduling Slots (Assuming patients request a slot for each day of their stay)\n",
    "requested_scheduling_slots = {f'R{p}': {patients[p]['admission_day'] + i + 1 for i in range(patients[p]['discharge_day'] - patients[p]['admission_day'])} for p in P}\n",
    "\n",
    "# Combining all domain dictionaries\n",
    "domain.update(beds_availability)\n",
    "domain.update(doctors_availability)\n",
    "domain.update(scheduling_slots)\n",
    "domain.update(patient_bed_assignment)\n",
    "domain.update(requested_scheduling_slots)"
   ]
  },
  {
   "cell_type": "markdown",
   "metadata": {},
   "source": [
    "## Input Data\n",
    "\n",
    "We will use the file provided by the professor 'P01 Test Data' and we will input the data in the input file named input.py"
   ]
  }
 ],
 "metadata": {
  "kernelspec": {
   "display_name": "Python 3",
   "language": "python",
   "name": "python3"
  },
  "language_info": {
   "codemirror_mode": {
    "name": "ipython",
    "version": 3
   },
   "file_extension": ".py",
   "mimetype": "text/x-python",
   "name": "python",
   "nbconvert_exporter": "python",
   "pygments_lexer": "ipython3",
   "version": "3.12.0"
  }
 },
 "nbformat": 4,
 "nbformat_minor": 2
}
