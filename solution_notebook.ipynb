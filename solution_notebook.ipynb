{
 "cells": [
  {
   "cell_type": "markdown",
   "metadata": {},
   "source": [
    "#  Patient Admission Scheduling"
   ]
  },
  {
   "cell_type": "markdown",
   "metadata": {},
   "source": [
    "## Problem Formulation\n"
   ]
  },
  {
   "cell_type": "markdown",
   "metadata": {},
   "source": [
    "Given a hospital with multiple departments, each containing rooms and beds, the challenge is to optimize the management of patients and bed availability. The goal is to efficiently assign a bed for each night a patient needs to stay in the hospital, considering the constraints of allocating beds to rooms and rooms to departments."
   ]
  },
  {
   "cell_type": "markdown",
   "metadata": {},
   "source": [
    "## Project Goal\n",
    "\n",
    "The goal of the project is to develop an intelligent agent, documenting the design and implementation steps.\n",
    "\n",
    "### Team Members\n",
    "- 18851 Luís Gonçalves Oliveira\n",
    "- 16443 Francisco Moreira Rebelo\n",
    "- 21990 Allan Sales Aleluia\n"
   ]
  },
  {
   "cell_type": "markdown",
   "metadata": {},
   "source": [
    "## Agent\n",
    "\n",
    "### PEAS - Agent Structure\n",
    "\n",
    "PEAS is a conceptual framework used in Artificial Intelligence to describe an agent system. The acronym PEAS stands for:\n",
    "\n",
    "- **Performance Measure:** Refers to criteria that define the success of the agent in a specific task. These measures are used to evaluate how well the agent is performing its actions in the environment.\n",
    "\n",
    "- **Environment:** Represents the context or scenario in which the agent operates. It may include all elements that affect or are affected by the agent, such as physical objects, other agents, external conditions, etc.\n",
    "\n",
    "- **Actuators:** Are the means by which the agent brings about changes in the environment. These can be motors, communication devices, or any other means by which the agent can influence its surroundings.\n",
    "\n",
    "- **Sensors:** Are the means by which the agent perceives its environment. Sensors provide information to the agent about the current state of the environment, enabling the agent to make informed decisions.\n",
    "\n",
    "### Example of PEAS Application:\n",
    "\n",
    "| **AGENT TYPE**      | **Performance Measure**                      | **Environment**                          | **Actuators**           | **Sensors** |\n",
    "|:-------------------:|:-------------------------------------------:|:---------------------------------------:|:-----------------------:|:------------:|\n",
    "| Hospital Scheduling | Efficient bed distribution; Minimize scheduling errors | Hospital area, including wards and surgery rooms | Automated scheduling system in Python | Bed occupancy sensors, information about available doctors and nurses |\n",
    "\n",
    "\n",
    "### Task Environment for Hospital Scheduling\n",
    "\n",
    "The task environment for the hospital scheduling agent is characterized as follows:\n",
    "\n",
    "- **Fully-observable:** The agent has complete visibility into the current state of the hospital, including bed occupancy, availability of medical staff, and scheduling information.\n",
    "\n",
    "- **Single-agent:** The scheduling decisions are made by a single agent, specifically the hospital scheduling system.\n",
    "\n",
    "- **Deterministic:** The outcome of scheduling actions is predictable; scheduling decisions directly influence the subsequent state of bed occupancy and medical staff availability.\n",
    "\n",
    "- **Sequential:** Scheduling decisions made in the current state affect future states; for example, assigning a bed and schedule to one patient may impact the availability for another patient.\n",
    "\n",
    "- **Dynamic:** The environment is dynamic, as bed occupancy and medical staff availability can change over time due to patient admissions, discharges, and staff schedules.\n",
    "\n",
    "- **Discrete:** The scheduling system operates within a discrete framework, with a finite number of beds, medical staff, and scheduling slots.\n",
    "\n",
    "- **Known:** The outcomes of scheduling actions are known to the system; the impact of assigning a bed or schedule is understood.\n",
    "\n",
    "This task environment outlines the key characteristics and dynamics relevant to the hospital scheduling agent's decision-making process.\n",
    "\n"
   ]
  },
  {
   "cell_type": "markdown",
   "metadata": {},
   "source": [
    "## Variables\n",
    "\n",
    "- **\\(B\\):** Set of available beds in the hospital.\n",
    "- **\\(D\\):** Set of doctors in the hospital.\n",
    "- **\\(N\\):** Set of nurses in the hospital.\n",
    "- **\\(S\\):** Set of scheduling slots, represented time intervals for appointments or procedures as pairs of start and end times.\n",
    "  - \\(S.01\\) - 0:00 AM to 1:00 AM\n",
    "  - \\(S.02\\) - 1:00 AM to 2:00 AM\n",
    "  - \\(S.03\\) - 2:00 AM to 3:00 AM\n",
    "  - \\(...)\n",
    "  - \\(S.22\\) - 9:00 PM to 10:00 PM\n",
    "  - \\(S.23\\) - 10:00 PM to 11:00 PM\n",
    "  - \\(S.24\\) - 11:00 PM to 12:00 AM\n",
    "- **\\(P\\):** Set of patients requiring scheduling.\n",
    "- **\\(A_b\\):** Availability status of bed \\(b \\in B\\), where \\(A_b = 1\\) indicates the bed is available, and \\(A_b = 0\\) indicates it is occupied.\n",
    "- **\\(A_d\\):** Availability status of doctor \\(d \\in D\\), where \\(A_d = 1\\) indicates the doctor is available, and \\(A_d = 0\\) indicates they are not available.\n",
    "- **\\(A_n\\):** Availability status of nurse \\(n \\in N\\), where \\(A_n = 1\\) indicates the nurse is available, and \\(A_n = 0\\) indicates they are not available.\n",
    "- **\\(R_p\\):** Requested scheduling slot for patient \\(p \\in P\\).\n",
    "- **\\(X_{pb}\\):** Binary decision variable, where \\(X_{pb} = 1\\) if patient \\(p\\) is assigned to bed \\(b\\), and \\(X_{pb} = 0\\) otherwise.\n",
    "- **\\(Y_{pd}\\):** Binary decision variable, where \\(Y_{pd} = 1\\) if doctor \\(d\\) is assigned to patient \\(p\\), and \\(Y_{pd} = 0\\) otherwise.\n",
    "- **\\(Y_{pn}\\):** Binary decision variable, where \\(Y_{pn} = 1\\) if nurse \\(n\\) is assigned to patient \\(p\\), and \\(Y_{pn} = 0\\) otherwise.\n"
   ]
  },
  {
   "cell_type": "markdown",
   "metadata": {},
   "source": [
    "## Domains\n",
    "\n",
    "For each variable, there is a domain - a set of values that can be assigned to this variable.  \n",
    "\n",
    "B: Set of available beds in the hospital.\n",
    "\n",
    "    Domain: B={b1,b2,…,bm}B={b1​,b2​,…,bm​} where mm is the total number of beds in the hospital.\n",
    "\n",
    "DD: Set of doctors in the hospital.\n",
    "\n",
    "    Domain: D={d1,d2,…,dn}D={d1​,d2​,…,dn​} where nn is the total number of doctors.\n",
    "\n",
    "NN: Set of nurses in the hospital.\n",
    "\n",
    "    Domain: N={n1,n2,…,nk}N={n1​,n2​,…,nk​} where kk is the total number of nurses.\n",
    "\n",
    "SS: Set of scheduling slots.\n",
    "\n",
    "    Domain: S={S.01,S.02,…,S.24}S={S.01,S.02,…,S.24} representing time intervals for appointments or procedures.\n",
    "\n",
    "PP: Set of patients requiring scheduling.\n",
    "\n",
    "    Domain: P={p1,p2,…,pq}P={p1​,p2​,…,pq​} where qq is the total number of patients.\n",
    "\n",
    "AbAb​: Availability status of bed b∈Bb∈B.\n",
    "\n",
    "    Domain: Ab={0,1}Ab​={0,1} where 00 indicates the bed is occupied, and 11 indicates it is available.\n",
    "\n",
    "AdAd​: Availability status of doctor d∈Dd∈D.\n",
    "\n",
    "    Domain: Ad={0,1}Ad​={0,1} where 00 indicates the doctor is not available, and 11 indicates they are available.\n",
    "\n",
    "AnAn​: Availability status of nurse n∈Nn∈N.\n",
    "\n",
    "    Domain: An={0,1}An​={0,1} where 00 indicates the nurse is not available, and 11 indicates they are available.\n",
    "\n",
    "RpRp​: Requested scheduling slot for patient p∈Pp∈P.\n",
    "\n",
    "    Domain: Rp⊆SRp​⊆S representing the requested time slots for each patient.\n",
    "\n",
    "XpbXpb​: Binary decision variable for patient pp assigned to bed bb.\n",
    "\n",
    "    Domain: Xpb={0,1}Xpb​={0,1} where 00 indicates the patient is not assigned to the bed, and 11 indicates the patient is assigned to the bed.\n",
    "\n",
    "YpdYpd​: Binary decision variable for doctor dd assigned to patient pp.\n",
    "\n",
    "    Domain: Ypd={0,1}Ypd​={0,1} where 00 indicates the doctor is not assigned to the patient, and 11 indicates the doctor is assigned to the patient.\n",
    "\n",
    "YpnYpn​: Binary decision variable for nurse nn assigned to patient pp.\n",
    "\n",
    "    Domain: Ypn={0,1}Ypn​={0,1} where 00 indicates the nurse is not assigned to the patient, and 11 indicates the nurse is assigned to the patient.\n"
   ]
  },
  {
   "cell_type": "markdown",
   "metadata": {},
   "source": [
    "## Input Data\n",
    "\n",
    "We will use the file provided by the professor 'P01 Test Data' and we will input the data in the input file named input.py"
   ]
  },
  {
   "cell_type": "code",
   "execution_count": null,
   "metadata": {},
   "outputs": [],
   "source": [
    "def parse_dataset(dataset):\n",
    "    departments = []\n",
    "    rooms = {}\n",
    "    beds = {}\n",
    "    patients = {}\n",
    "\n",
    "    lines = dataset.strip().split('\\n')\n",
    "    current_section = None\n",
    "\n",
    "    for line in lines:\n",
    "        words = line.split()\n",
    "\n",
    "        if not words:\n",
    "            continue\n",
    "\n",
    "        if words[0] in ['DEPARTMENTS:', 'ROOMS:', 'BEDS:', 'PATIENTS:']:\n",
    "            current_section = words[0].rstrip(':')\n",
    "            continue\n",
    "\n",
    "        if current_section == 'DEPARTMENTS':\n",
    "            if words[0] == 'END.':\n",
    "                break\n",
    "\n",
    "            department_id, department_name = words\n",
    "            departments.append((int(department_id), department_name))\n",
    "\n",
    "        elif current_section == 'ROOMS':\n",
    "            if words[0] == 'END.':\n",
    "                break\n",
    "\n",
    "            room_id = words[0]\n",
    "            room_name = ' '.join(words[1:-3])  # Unir os elementos restantes como nome da sala\n",
    "            room_capacity = words[-3]\n",
    "            room_department = words[-1]\n",
    "\n",
    "            rooms[room_id] = {'name': room_name, 'capacity': int(room_capacity), 'department': int(room_department)}\n",
    "\n",
    "        elif current_section == 'BEDS':\n",
    "            if words[0] == 'END.':\n",
    "                break\n",
    "\n",
    "            bed_id, bed_room_id = words\n",
    "            beds[bed_id] = {'room': bed_room_id}\n",
    "\n",
    "        elif current_section == 'PATIENTS':\n",
    "            if words[0] == 'END.':\n",
    "                break\n",
    "\n",
    "            patient_id, patient_name, patient_age, patient_gender, patient_admission_day, patient_discharge_day = words\n",
    "            patients[int(patient_id)] = {\n",
    "                'name': patient_name,\n",
    "                'age': int(patient_age),\n",
    "                'gender': patient_gender,\n",
    "                'admission_day': int(patient_admission_day),\n",
    "                'discharge_day': int(patient_discharge_day)\n",
    "            }\n",
    "\n",
    "    return departments, rooms, beds, patients"
   ]
  },
  {
   "cell_type": "markdown",
   "metadata": {},
   "source": [
    "## Constraints"
   ]
  },
  {
   "cell_type": "markdown",
   "metadata": {},
   "source": [
    "## Results"
   ]
  },
  {
   "cell_type": "markdown",
   "metadata": {},
   "source": [
    "## Repository \n",
    "\n",
    "https://github.com/a18851/IA_G09/"
   ]
  },
  {
   "cell_type": "markdown",
   "metadata": {},
   "source": [
    "## References\n",
    "\n",
    "https://saiconference.com/IntelliSys"
   ]
  }
 ],
 "metadata": {
  "kernelspec": {
   "display_name": "Python 3",
   "language": "python",
   "name": "python3"
  },
  "language_info": {
   "codemirror_mode": {
    "name": "ipython",
    "version": 3
   },
   "file_extension": ".py",
   "mimetype": "text/x-python",
   "name": "python",
   "nbconvert_exporter": "python",
   "pygments_lexer": "ipython3",
   "version": "3.12.0"
  }
 },
 "nbformat": 4,
 "nbformat_minor": 2
}
