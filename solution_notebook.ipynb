{
 "cells": [
  {
   "cell_type": "markdown",
   "metadata": {},
   "source": [
    "#  Patient Admission Scheduling"
   ]
  },
  {
   "cell_type": "markdown",
   "metadata": {},
   "source": [
    "## Problem Formulation\n"
   ]
  },
  {
   "cell_type": "markdown",
   "metadata": {},
   "source": [
    "## Project Goal\n",
    "\n",
    "The goal of the project is to develop an intelligent agent, documenting the design and implementation steps.\n",
    "\n",
    "### Team Members\n",
    "- 18851 Luís Gonçalves Oliveira\n",
    "- 16443 Francisco Moreira Rebelo\n",
    "- 21990 Allan Sales Aleluia\n"
   ]
  },
  {
   "cell_type": "markdown",
   "metadata": {},
   "source": [
    "## Agent\n",
    "\n",
    "### PEAS - Agent Structure\n",
    "\n",
    "PEAS is a conceptual framework used in Artificial Intelligence to describe an agent system. The acronym PEAS stands for:\n",
    "\n",
    "- **Performance Measure:** Refers to criteria that define the success of the agent in a specific task. These measures are used to evaluate how well the agent is performing its actions in the environment.\n",
    "\n",
    "- **Environment:** Represents the context or scenario in which the agent operates. It may include all elements that affect or are affected by the agent, such as physical objects, other agents, external conditions, etc.\n",
    "\n",
    "- **Actuators:** Are the means by which the agent brings about changes in the environment. These can be motors, communication devices, or any other means by which the agent can influence its surroundings.\n",
    "\n",
    "- **Sensors:** Are the means by which the agent perceives its environment. Sensors provide information to the agent about the current state of the environment, enabling the agent to make informed decisions.\n",
    "\n",
    "### Example of PEAS Application:\n",
    "\n",
    "| **AGENT TYPE**      | **Performance Measure**                      | **Environment**                          | **Actuators**           | **Sensors** |\n",
    "|:-------------------:|:-------------------------------------------:|:---------------------------------------:|:-----------------------:|:------------:|\n",
    "| Hospital Scheduling | Efficient bed distribution; Minimize scheduling errors | Hospital area, including wards and surgery rooms | Automated scheduling system in Python | Bed occupancy sensors, information about available doctors and nurses |\n",
    "\n",
    "\n",
    "### Task Environment for Hospital Scheduling\n",
    "\n",
    "The task environment for the hospital scheduling agent is characterized as follows:\n",
    "\n",
    "- **Fully-observable:** The agent has complete visibility into the current state of the hospital, including bed occupancy, availability of medical staff, and scheduling information.\n",
    "\n",
    "- **Single-agent:** The scheduling decisions are made by a single agent, specifically the hospital scheduling system.\n",
    "\n",
    "- **Deterministic:** The outcome of scheduling actions is predictable; scheduling decisions directly influence the subsequent state of bed occupancy and medical staff availability.\n",
    "\n",
    "- **Sequential:** Scheduling decisions made in the current state affect future states; for example, assigning a bed and schedule to one patient may impact the availability for another patient.\n",
    "\n",
    "- **Dynamic:** The environment is dynamic, as bed occupancy and medical staff availability can change over time due to patient admissions, discharges, and staff schedules.\n",
    "\n",
    "- **Discrete:** The scheduling system operates within a discrete framework, with a finite number of beds, medical staff, and scheduling slots.\n",
    "\n",
    "- **Known:** The outcomes of scheduling actions are known to the system; the impact of assigning a bed or schedule is understood.\n",
    "\n",
    "This task environment outlines the key characteristics and dynamics relevant to the hospital scheduling agent's decision-making process.\n",
    "\n"
   ]
  },
  {
   "cell_type": "markdown",
   "metadata": {},
   "source": [
    "## Variables"
   ]
  }
 ],
 "metadata": {
  "kernelspec": {
   "display_name": "Python 3",
   "language": "python",
   "name": "python3"
  },
  "language_info": {
   "codemirror_mode": {
    "name": "ipython",
    "version": 3
   },
   "file_extension": ".py",
   "mimetype": "text/x-python",
   "name": "python",
   "nbconvert_exporter": "python",
   "pygments_lexer": "ipython3",
   "version": "3.12.0"
  }
 },
 "nbformat": 4,
 "nbformat_minor": 2
}
