{
 "cells": [
  {
   "cell_type": "markdown",
   "metadata": {},
   "source": [
    "#  Patient Admission Scheduling"
   ]
  },
  {
   "cell_type": "markdown",
   "metadata": {},
   "source": [
    "## Problem Formulation\n"
   ]
  },
  {
   "cell_type": "markdown",
   "metadata": {},
   "source": [
    "Given a hospital with multiple departments, each containing rooms and beds, the challenge is to optimize the management of patients and bed availability. The goal is to efficiently assign a bed for each night a patient needs to stay in the hospital, considering the constraints of allocating beds to rooms and rooms to departments."
   ]
  },
  {
   "cell_type": "markdown",
   "metadata": {},
   "source": [
    "## Project Goal\n",
    "\n",
    "The goal of the project is to develop an intelligent agent, documenting the design and implementation steps.\n",
    "\n",
    "### Team Members\n",
    "- 18851 Luís Gonçalves Oliveira\n",
    "- 16443 Francisco Moreira Rebelo\n",
    "- 21990 Allan Sales Aleluia\n"
   ]
  },
  {
   "cell_type": "markdown",
   "metadata": {},
   "source": [
    "## Agent\n",
    "\n",
    "### PEAS - Agent Structure\n",
    "\n",
    "PEAS is a conceptual framework used in Artificial Intelligence to describe an agent system. The acronym PEAS stands for:\n",
    "\n",
    "- **Performance Measure:** Refers to criteria that define the success of the agent in a specific task. These measures are used to evaluate how well the agent is performing its actions in the environment.\n",
    "\n",
    "- **Environment:** Represents the context or scenario in which the agent operates. It may include all elements that affect or are affected by the agent, such as physical objects, other agents, external conditions, etc.\n",
    "\n",
    "- **Actuators:** Are the means by which the agent brings about changes in the environment. These can be motors, communication devices, or any other means by which the agent can influence its surroundings.\n",
    "\n",
    "- **Sensors:** Are the means by which the agent perceives its environment. Sensors provide information to the agent about the current state of the environment, enabling the agent to make informed decisions.\n",
    "\n",
    "### Example of PEAS Application:\n",
    "\n",
    "| **AGENT TYPE**      | **Performance Measure**                      | **Environment**                          | **Actuators**           | **Sensors** |\n",
    "|:-------------------:|:-------------------------------------------:|:---------------------------------------:|:-----------------------:|:------------:|\n",
    "| Hospital Scheduling | Efficient bed distribution; Minimize scheduling errors | Hospital area, including wards and surgery rooms | Automated scheduling system in Python | Bed occupancy sensors, information about available doctors and nurses |\n",
    "\n",
    "\n",
    "### Task Environment for Hospital Scheduling\n",
    "\n",
    "The task environment for the hospital scheduling agent is characterized as follows:\n",
    "\n",
    "- **Fully-observable:** The agent has complete visibility into the current state of the hospital, including bed occupancy, availability of medical staff, and scheduling information.\n",
    "\n",
    "- **Single-agent:** The scheduling decisions are made by a single agent, specifically the hospital scheduling system.\n",
    "\n",
    "- **Deterministic:** The outcome of scheduling actions is predictable; scheduling decisions directly influence the subsequent state of bed occupancy and medical staff availability.\n",
    "\n",
    "- **Sequential:** Scheduling decisions made in the current state affect future states; for example, assigning a bed and schedule to one patient may impact the availability for another patient.\n",
    "\n",
    "- **Dynamic:** The environment is dynamic, as bed occupancy and medical staff availability can change over time due to patient admissions, discharges, and staff schedules.\n",
    "\n",
    "- **Discrete:** The scheduling system operates within a discrete framework, with a finite number of beds, medical staff, and scheduling slots.\n",
    "\n",
    "- **Known:** The outcomes of scheduling actions are known to the system; the impact of assigning a bed or schedule is understood.\n",
    "\n",
    "This task environment outlines the key characteristics and dynamics relevant to the hospital scheduling agent's decision-making process.\n",
    "\n"
   ]
  },
  {
   "cell_type": "markdown",
   "metadata": {},
   "source": [
    "### AIMA Code Files Used\n",
    "\n",
    "The team incorporated the following files from the AIMA code:\n",
    "\n",
    "- `csp.py`\n",
    "- `utils.py`\n",
    "- `search.py`"
   ]
  },
  {
   "cell_type": "code",
   "execution_count": null,
   "metadata": {},
   "outputs": [],
   "source": [
    "from csp import *\n",
    "from utils import *\n",
    "from search import *"
   ]
  },
  {
   "cell_type": "markdown",
   "metadata": {},
   "source": [
    "## Variables\n",
    "\n",
    "- **\\(Beds\\):** Set of available beds in the hospital.\n",
    "- **\\(Patients\\):** Set of patients requiring scheduling.\n"
   ]
  },
  {
   "cell_type": "markdown",
   "metadata": {},
   "source": [
    "## Domains\n",
    "\n",
    "So, for each patient, the domain is initially set to be all available beds (1 through 8). As the code progresses and constraints are applied, certain beds are eliminated from the domain based on the patient's department, telemetry requirements, and oxygen requirements.\n",
    "\n",
    "For example, when the code iterates through patients and room information to apply constraints, it selectively removes beds from the patient's domain based on compatibility with the room's properties and the patient's requirements. The goal is to narrow down the possible bed assignments for each patient, and the final solution is found using the constraint satisfaction solver.\n"
   ]
  },
  {
   "cell_type": "markdown",
   "metadata": {},
   "source": [
    "## Input Data\n",
    "\n",
    "We will use the file provided by the professor 'P01 Test Data' and we will input the data in the input file named input.py"
   ]
  },
  {
   "cell_type": "code",
   "execution_count": null,
   "metadata": {},
   "outputs": [],
   "source": [
    "def parse_dataset(dataset):\n",
    "    departments = []\n",
    "    rooms = {}\n",
    "    beds = {}\n",
    "    patients = {}\n",
    "\n",
    "    lines = dataset.strip().split('\\n')\n",
    "    current_section = None\n",
    "\n",
    "    for line in lines:\n",
    "        words = line.split()\n",
    "\n",
    "        if not words:\n",
    "            continue\n",
    "\n",
    "        if words[0] in ['DEPARTMENTS:', 'ROOMS:', 'BEDS:', 'PATIENTS:']:\n",
    "            current_section = words[0].rstrip(':')\n",
    "            continue\n",
    "\n",
    "        if current_section == 'DEPARTMENTS':\n",
    "            if words[0] == 'END.':\n",
    "                break\n",
    "\n",
    "            department_id, department_name = words\n",
    "            departments.append((int(department_id), department_name))\n",
    "\n",
    "        elif current_section == 'ROOMS':\n",
    "            if words[0] == 'END.':\n",
    "                break\n",
    "\n",
    "            room_id = words[0]\n",
    "            room_name = ' '.join(words[1:-3])  # Unir os elementos restantes como nome da sala\n",
    "            room_capacity = words[-3]\n",
    "            room_department = words[-1]\n",
    "\n",
    "            rooms[room_id] = {'name': room_name, 'capacity': int(room_capacity), 'department': int(room_department)}\n",
    "\n",
    "        elif current_section == 'BEDS':\n",
    "            if words[0] == 'END.':\n",
    "                break\n",
    "\n",
    "            bed_id, bed_room_id = words\n",
    "            beds[bed_id] = {'room': bed_room_id}\n",
    "\n",
    "        elif current_section == 'PATIENTS':\n",
    "            if words[0] == 'END.':\n",
    "                break\n",
    "\n",
    "            patient_id, patient_name, patient_age, patient_gender, patient_admission_day, patient_discharge_day = words\n",
    "            patients[int(patient_id)] = {\n",
    "                'name': patient_name,\n",
    "                'age': int(patient_age),\n",
    "                'gender': patient_gender,\n",
    "                'admission_day': int(patient_admission_day),\n",
    "                'discharge_day': int(patient_discharge_day)\n",
    "            }\n",
    "\n",
    "    return departments, rooms, beds, patients"
   ]
  },
  {
   "cell_type": "markdown",
   "metadata": {},
   "source": [
    "## Constraints\n",
    "\n",
    "To make sure the schedule we create is practical and works well in real-life situations, we've set up some rules for the algorithm to follow. These rules help solve the hospital scheduling problem effectively by considering various factors. Here are the constraints we've established:\n",
    "\n",
    "**1. Patient-Bed Assignment Constraint:**\n",
    "   - *Goal:* Protect patient privacy and prevent infections.\n",
    "   - *How It Works:* No two patients can share the same bed on the same night.\n",
    "\n",
    "**2. Room Gender Limitation Constraint:**\n",
    "   - *Goal:* Ensure patient comfort, privacy, and safety.\n",
    "   - *How It Works:* Rooms may have specific gender requirements, like being for only females, only males, the same gender in the same night, or no gender restrictions.\n",
    "\n",
    "**3. Equipment-Specific Room Assignment Constraint:**\n",
    "   - *Goal:* Match rooms with the medical equipment a patient needs.\n",
    "   - *How It Works:* Assigning rooms based on the equipment necessary for a patient's care.\n",
    "\n",
    "**4. Departmental Specialization Constraint:**\n",
    "   - *Goal:* Improve patient care by using specialized departments.\n",
    "   - *How It Works:* Patients are assigned to departments that specialize in treating their specific medical condition.\n",
    "\n",
    "**5. Departmental Age Limit Constraint:**\n",
    "   - *Goal:* Ensure patients are in departments suitable for their age.\n",
    "   - *How It Works:* Departments can have age restrictions to make sure patients are in the right medical environment for their age group.\n",
    "\n",
    "**6. Additional Constraint: Patient Acuity Level Constraint:**\n",
    "   - *Goal:* Customize patient assignments based on care intensity needs.\n",
    "   - *How It Works:* Patients with higher care needs are placed in areas with closer monitoring, while those needing less attention go to standard care areas.\n",
    "\n",
    "These rules guide the algorithm to create schedules that consider patient needs, privacy, safety, and specialized medical care, making sure the hospital operates efficiently and effectively."
   ]
  },
  {
   "cell_type": "markdown",
   "metadata": {},
   "source": [
    "## Results"
   ]
  },
  {
   "cell_type": "markdown",
   "metadata": {},
   "source": [
    "## Repository \n",
    "\n",
    "https://github.com/a18851/IA_G09/"
   ]
  },
  {
   "cell_type": "markdown",
   "metadata": {},
   "source": [
    "## References\n",
    "\n",
    "https://saiconference.com/IntelliSys\n",
    "\n",
    "http://aima.cs.berkeley.edu/\n",
    "\n",
    "https://github.com/aimacode\n",
    "\n"
   ]
  }
 ],
 "metadata": {
  "kernelspec": {
   "display_name": "Python 3",
   "language": "python",
   "name": "python3"
  },
  "language_info": {
   "codemirror_mode": {
    "name": "ipython",
    "version": 3
   },
   "file_extension": ".py",
   "mimetype": "text/x-python",
   "name": "python",
   "nbconvert_exporter": "python",
   "pygments_lexer": "ipython3",
   "version": "3.12.0"
  }
 },
 "nbformat": 4,
 "nbformat_minor": 2
}
